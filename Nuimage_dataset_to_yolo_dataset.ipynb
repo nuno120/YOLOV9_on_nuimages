{
 "cells": [
  {
   "cell_type": "markdown",
   "metadata": {},
   "source": [
    "# nuImages devkit tutorial\n",
    "\n",
    "Welcome to the nuImages tutorial.\n",
    "This demo assumes the database itself is available at `/data/sets/nuimages`, and loads a mini version of the dataset."
   ]
  },
  {
   "cell_type": "code",
   "execution_count": 3,
   "metadata": {},
   "outputs": [
    {
     "name": "stdout",
     "output_type": "stream",
     "text": [
      "mkdir: cannot create directory ‘/data’: Permission denied\n",
      "--2024-04-23 18:35:16--  https://www.nuscenes.org/data/nuimages-v1.0-mini.tgz\n",
      "Resolving www.nuscenes.org (www.nuscenes.org)... 2600:9000:21c7:bc00:1b:5ef:6040:93a1, 2600:9000:21c7:2a00:1b:5ef:6040:93a1, 2600:9000:21c7:3200:1b:5ef:6040:93a1, ...\n",
      "Connecting to www.nuscenes.org (www.nuscenes.org)|2600:9000:21c7:bc00:1b:5ef:6040:93a1|:443... connected.\n",
      "HTTP request sent, awaiting response... 200 OK\n",
      "Length: 117929607 (112M) [application/x-tar]\n",
      "Saving to: ‘nuimages-v1.0-mini.tgz’\n",
      "\n",
      "nuimages-v1.0-mini. 100%[===================>] 112,47M  84,9MB/s    in 1,3s    \n",
      "\n",
      "2024-04-23 18:35:17 (84,9 MB/s) - ‘nuimages-v1.0-mini.tgz’ saved [117929607/117929607]\n",
      "\n",
      "tar: /data/sets/nuimages: Cannot open: No such file or directory\n",
      "tar: Error is not recoverable: exiting now\n"
     ]
    }
   ],
   "source": [
    "#run once\n",
    "#!mkdir -p /data/sets/nuimages  # Make the directory to store the nuImages dataset in.\n",
    "#!wget https://www.nuscenes.org/data/nuimages-v1.0-mini.tgz  # Download the nuImages mini split.\n",
    "\n",
    "#!tar -xf nuimages-v1.0-mini.tgz -C /data/sets/nuimages  # Uncompress the nuImages mini split.\n",
    "#!pip install nuscenes-devkit &> /dev/null  # Install nuImages."
   ]
  },
  {
   "cell_type": "markdown",
   "metadata": {},
   "source": [
    "## Initialization\n",
    "To initialize the dataset class, we run the code below. We can change the dataroot parameter if the dataset is installed in a different folder. We can also omit it to use the default setup. These will be useful further below."
   ]
  },
  {
   "cell_type": "code",
   "execution_count": 1,
   "metadata": {},
   "outputs": [],
   "source": [
    "%matplotlib inline\n",
    "%load_ext autoreload\n",
    "%autoreload 2\n",
    "from nuimages import NuImages"
   ]
  },
  {
   "cell_type": "code",
   "execution_count": 3,
   "metadata": {},
   "outputs": [
    {
     "name": "stdout",
     "output_type": "stream",
     "text": [
      "{'barrier': 0, 'bicycle': 1, 'bus': 2, 'car': 3, 'construction_vehicle': 4, 'motorcycle': 5, 'pedestrian': 6, 'traffic_cone': 7, 'trailer': 8, 'truck': 9}\n"
     ]
    }
   ],
   "source": [
    "def bbox2yolo(sizee, boxx):\n",
    "    dw = 1. / sizee[0]\n",
    "    dh = 1. / sizee[1]\n",
    "    x_center = (boxx[0] + boxx[1]) / 2.0\n",
    "    y_center = (boxx[2] + boxx[3]) / 2.0\n",
    "    width = boxx[1] - boxx[0]\n",
    "    height = boxx[3] - boxx[2]\n",
    "    \n",
    "    x_center = x_center * dw\n",
    "    width = width * dw\n",
    "    y_center = y_center * dh\n",
    "    height = height * dh\n",
    "\n",
    "\n",
    "    \n",
    "    \n",
    "    \n",
    "    return (x_center, y_center, width, height)\n",
    "\n",
    "#now get the 'category_name' and assign a number instead \n",
    "classes = ['barrier', 'bicycle', 'bus', 'car', 'construction_vehicle', 'motorcycle', 'pedestrian', 'traffic_cone', 'trailer', 'truck']\n",
    "#make a dictionary where each class got a number\n",
    "class_dict = {classes[i]: i for i in range(len(classes))}\n",
    "print(class_dict)"
   ]
  },
  {
   "cell_type": "code",
   "execution_count": 6,
   "metadata": {},
   "outputs": [],
   "source": [
    "import numpy as np\n",
    "import torch\n",
    "import torchvision.transforms as T\n",
    "import concurrent.futures\n",
    "import os\n",
    "\n",
    "\n",
    "def process_sample(i):\n",
    "    sample = nuim.sample[i]\n",
    "    key_camera_token = sample['key_camera_token']\n",
    "    \n",
    "    # Render image using PyTorch\n",
    "    im, obj = nuim.render_image_2(\n",
    "        key_camera_token,\n",
    "        annotation_type='objects',\n",
    "        with_category=True,\n",
    "        with_attributes=True,\n",
    "        box_line_width=-1,\n",
    "        render_scale=5\n",
    "    )\n",
    "    \n",
    "    w, h = im.size\n",
    "    \n",
    "    # Convert image to PyTorch tensor\n",
    "    transform = T.ToTensor()\n",
    "    im_tensor = transform(im).unsqueeze(0).cuda()\n",
    "    \n",
    "    labels_data = []\n",
    "    \n",
    "    for obj_info in obj:\n",
    "        xmin, ymin, xmax, ymax = obj_info['bbox']\n",
    "        \n",
    "        # Convert bbox to YOLO format\n",
    "        bb = bbox2yolo((w, h), (xmin, xmax, ymin, ymax))\n",
    "        \n",
    "        category_name = obj_info['category_name']\n",
    "        if 'vehicle.construction' in category_name:\n",
    "            labels_data.append(f\"{class_dict['construction_vehicle']} {' '.join(map(str, bb))}\\n\")\n",
    "            print('cons vehicle')\n",
    "        if 'movable_object.trafficcone' in category_name:\n",
    "            labels_data.append(f\"{class_dict['traffic_cone']} {' '.join(map(str, bb))}\\n\")\n",
    "            print('trafficcone')\n",
    "        for class_name in classes:\n",
    "            if class_name in category_name:\n",
    "                labels_data.append(f\"{class_dict[class_name]} {' '.join(map(str, bb))}\\n\")\n",
    "                break\n",
    "                \n",
    "    with open(os.path.join(labels_dir, f\"{i}.txt\"), 'w') as f:\n",
    "        f.writelines(labels_data)\n",
    "    \n",
    "    im.save(os.path.join(images_dir, f\"{i}.png\"))\n",
    "\n",
    "# Set device to GPU if available\n",
    "device = torch.device(\"cuda\" if torch.cuda.is_available() else \"cpu\")\n",
    "\n",
    "amount_samples = 8721810 # change to amount of samples in data, or just way to much and run until error\n"
   ]
  },
  {
   "cell_type": "code",
   "execution_count": null,
   "metadata": {},
   "outputs": [],
   "source": [
    "nuim = NuImages(dataroot='/home/robolab/Downloads/nuimages-v1.0-all-metadata', version='v1.0-val', verbose=True, lazy=True)\n",
    "labels_dir = '/home/robolab/Downloads/yolov9/val2/labels' #for the val\n",
    "images_dir = '/home/robolab/Downloads/yolov9/val2/images'  \n",
    "\n",
    "if not os.path.exists(labels_dir):\n",
    "    os.makedirs(labels_dir)\n",
    "if not os.path.exists(images_dir):\n",
    "    os.makedirs(images_dir)\n",
    "\n",
    "# Parallel processing\n",
    "with concurrent.futures.ThreadPoolExecutor() as executor:\n",
    "    executor.map(process_sample, range(amount_samples)) "
   ]
  },
  {
   "cell_type": "code",
   "execution_count": null,
   "metadata": {},
   "outputs": [
    {
     "name": "stdout",
     "output_type": "stream",
     "text": [
      "======\n",
      "Loading nuImages tables for version v1.0-test...\n",
      "Done loading in 0.000 seconds (lazy=True).\n",
      "======\n",
      "Loaded 9752 sample(s) in 0.020s,\n",
      "Loaded 9752 sample(s) in 0.030s,\n",
      "Loaded 9752 sample(s) in 0.038s,\n",
      "Loaded 9752 sample(s) in 0.049s,\n",
      "Loaded 9752 sample(s) in 0.073s,\n",
      "Loaded 9752 sample(s) in 0.131s,\n",
      "Loaded 9752 sample(s) in 0.173s,\n",
      "Loaded 9752 sample(s) in 0.182s,\n",
      "Loaded 9752 sample(s) in 0.489s,\n",
      "Loaded 9752 sample(s) in 0.510s,\n",
      "Loaded 9752 sample(s) in 0.546s,\n",
      "Loaded 9752 sample(s) in 0.545s,\n",
      "Loaded 9752 sample(s) in 0.591s,\n",
      "Loaded 126276 sample_data(s) in 0.863s,\n",
      "Loaded 126276 sample_data(s) in 1.499s,\n",
      "Loaded 126276 sample_data(s) in 1.573s,\n",
      "Loaded 126276 sample_data(s) in 1.438s,\n",
      "Loaded 126276 sample_data(s) in 1.811s,\n",
      "Loaded 126276 sample_data(s) in 2.253s,\n",
      "Loaded 126276 sample_data(s) in 3.265s,\n",
      "Loaded 126276 sample_data(s) in 4.006s,\n",
      "Loaded 126276 sample_data(s) in 4.068s,\n",
      "Loaded 126276 sample_data(s) in 4.543s,\n",
      "Loaded 126276 sample_data(s) in 4.701s,\n",
      "Loaded 126276 sample_data(s) in 4.628s,\n",
      "Loaded 126276 sample_data(s) in 4.748s,\n",
      "Loaded 126276 sample_data(s) in 4.669s,\n",
      "Loaded 0 object_ann(s) in 0.007s,\n",
      "Loaded 0 object_ann(s) in 0.124s,\n"
     ]
    }
   ],
   "source": [
    "nuim = NuImages(dataroot='/home/robolab/Downloads/nuimages-v1.0-all-metadata', version='v1.0-test', verbose=True, lazy=True)\n",
    "labels_dir = '/home/robolab/Downloads/yolov9/test2/labels' #for the val\n",
    "images_dir = '/home/robolab/Downloads/yolov9/test2/images'  \n",
    "\n",
    "if not os.path.exists(labels_dir):\n",
    "    os.makedirs(labels_dir)\n",
    "if not os.path.exists(images_dir):\n",
    "    os.makedirs(images_dir)\n",
    "\n",
    "# Parallel processing\n",
    "with concurrent.futures.ThreadPoolExecutor() as executor:\n",
    "    executor.map(process_sample, range(amount_samples)) "
   ]
  },
  {
   "cell_type": "code",
   "execution_count": null,
   "metadata": {},
   "outputs": [],
   "source": [
    "nuim = NuImages(dataroot='/home/robolab/Downloads/nuimages-v1.0-all-metadata', version='v1.0-train', verbose=True, lazy=True)\n",
    "labels_dir = '/home/robolab/Downloads/yolov9/train2/labels' #for the val\n",
    "images_dir = '/home/robolab/Downloads/yolov9/train2/images'  \n",
    "if not os.path.exists(labels_dir):\n",
    "    os.makedirs(labels_dir)\n",
    "if not os.path.exists(images_dir):\n",
    "    os.makedirs(images_dir)\n",
    "\n",
    "\n",
    "# Parallel processing\n",
    "with concurrent.futures.ThreadPoolExecutor() as executor:\n",
    "    executor.map(process_sample, range(amount_samples)) "
   ]
  }
 ],
 "metadata": {
  "kernelspec": {
   "display_name": "firstEnv",
   "language": "python",
   "name": "firstenv"
  },
  "language_info": {
   "codemirror_mode": {
    "name": "ipython",
    "version": 3
   },
   "file_extension": ".py",
   "mimetype": "text/x-python",
   "name": "python",
   "nbconvert_exporter": "python",
   "pygments_lexer": "ipython3",
   "version": "3.7.12"
  }
 },
 "nbformat": 4,
 "nbformat_minor": 4
}
